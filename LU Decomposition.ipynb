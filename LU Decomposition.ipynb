{
 "cells": [
  {
   "cell_type": "code",
   "execution_count": 59,
   "metadata": {},
   "outputs": [],
   "source": [
    "import numpy as np\n",
    "pi = np.pi\n",
    "\n",
    "def LUDECMP(A):\n",
    "    N = A.shape[0]\n",
    "    indx = [0] * N\n",
    "    vv = [0] * N\n",
    "    TINY = 1.0E-20 \n",
    "    d = 1.0 \n",
    "    for i in range(N):\n",
    "        big = 0.0\n",
    "        for j in range(N): \n",
    "            temp = abs(A[i,j])\n",
    "            if temp > big:\n",
    "                big = temp\n",
    "        if big == 0.0:\n",
    "            print(\"Singular Matrix\")\n",
    "        vv[i] = 1.0/big\n",
    "    for j in range(N):\n",
    "        for i in range(j):\n",
    "            asum = A[i,j]\n",
    "            for k in range(i):\n",
    "                asum = asum - A[i,k]*A[k,j]\n",
    "            A[i,j] = asum\n",
    "        big = 0.0\n",
    "        for i in range(j,N):\n",
    "            asum = A[i,j]\n",
    "            for k in range(j):\n",
    "                asum = asum - A[i,k]*A[k,j]\n",
    "            A[i,j] = asum\n",
    "            dum = vv[i]*abs(A[i,j])\n",
    "            if dum >= big:\n",
    "                big = dum\n",
    "                imax = i\n",
    "        if j != imax:\n",
    "            for k in range(N):\n",
    "                dum = A[imax,k]\n",
    "                A[imax,k] = A[j,k]\n",
    "                A[j,k] = dum\n",
    "            d = -d \n",
    "            vv[imax] = vv[j]\n",
    "        indx[j] = imax\n",
    "        if A[j,j] == 0.0:\n",
    "            A[j,j] = TINY\n",
    "        if j != (N-1):\n",
    "            dum = 1.0/A[j,j]\n",
    "            for i in range(j+1,N):\n",
    "                A[i,j] = A[i,j]*dum\n",
    "    \n",
    "    return indx, d, A\n",
    "\n",
    "\n",
    "def LUBKSB(A, b, indx):\n",
    "    N = A.shape[0]\n",
    "    ii = -1\n",
    "    for i in range(N):\n",
    "        ip = indx[i]\n",
    "        asum = b[ip]\n",
    "        b[ip] = b[i]\n",
    "        if ii != -1:\n",
    "            for j in range(ii, i):\n",
    "                asum = asum - A[i,j]*b[j]\n",
    "        elif asum != 0.:\n",
    "            ii = i\n",
    "        b[i] = asum\n",
    "    for i in range(N-1,-1,-1):\n",
    "        asum = b[i]\n",
    "        for j in range(i+1,N):\n",
    "            asum -= A[i,j]*b[j]\n",
    "        b[i] = asum/A[i,i]\n",
    "    \n",
    "    return b"
   ]
  },
  {
   "cell_type": "code",
   "execution_count": 60,
   "metadata": {},
   "outputs": [
    {
     "name": "stdout",
     "output_type": "stream",
     "text": [
      "A =\n",
      "[[ 1.  2. -1.]\n",
      " [ 6. -5.  4.]\n",
      " [-9.  8. -7.]]\n",
      "\n",
      "b = \n",
      "[6.283185307179586, 15.707963267948966, -25.132741228718345]\n",
      "\n",
      "x = \n",
      "[3.141592653589794, 3.1415926535897927, 3.1415926535897922]\n"
     ]
    }
   ],
   "source": [
    "# TESTING CASE 1\n",
    "\n",
    "A = np.matrix([[1., 2., -1.],[6., -5., 4.], [-9., 8., -7.]])\n",
    "print(\"A =\")\n",
    "print(A)\n",
    "indx, d, LU = LUDECMP(A)     \n",
    "b = [2*pi, 5*pi, -8*pi]\n",
    "print(\"\")\n",
    "print(\"b = \")\n",
    "print(b)\n",
    "x = LUBKSB(LU, b, indx)\n",
    "print(\"\")\n",
    "print(\"x = \")\n",
    "print(x)"
   ]
  },
  {
   "cell_type": "code",
   "execution_count": 61,
   "metadata": {},
   "outputs": [
    {
     "name": "stdout",
     "output_type": "stream",
     "text": [
      "A =\n",
      "[[ 3.14159265  9.42477796  6.28318531]\n",
      " [ 0.          1.         -0.66666667]\n",
      " [-3.14159265 -9.42477796  6.28318531]]\n",
      "\n",
      "b = \n",
      "[3.0, 0.0, -1.0]\n",
      "\n",
      "x = \n",
      "[0.3183098861837907, 0.1061032953945969, 0.15915494309189535]\n"
     ]
    }
   ],
   "source": [
    "# TESTING CASE 2\n",
    "\n",
    "A = np.matrix([[pi, 3*pi, 2*pi],[0., 1., -2./3.], [-pi, -3*pi, 2*pi]])\n",
    "print(\"A =\")\n",
    "print(A)\n",
    "indx, d, LU = LUDECMP(A)     \n",
    "b = [3., 0., -1.]\n",
    "print(\"\")\n",
    "print(\"b = \")\n",
    "print(b)\n",
    "x = LUBKSB(LU, b, indx)\n",
    "print(\"\")\n",
    "print(\"x = \")\n",
    "print(x)"
   ]
  }
 ],
 "metadata": {
  "kernelspec": {
   "display_name": "Python 3",
   "language": "python",
   "name": "python3"
  },
  "language_info": {
   "codemirror_mode": {
    "name": "ipython",
    "version": 3
   },
   "file_extension": ".py",
   "mimetype": "text/x-python",
   "name": "python",
   "nbconvert_exporter": "python",
   "pygments_lexer": "ipython3",
   "version": "3.8.5"
  }
 },
 "nbformat": 4,
 "nbformat_minor": 4
}
